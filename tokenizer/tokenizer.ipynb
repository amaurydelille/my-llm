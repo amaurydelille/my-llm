{
 "cells": [
  {
   "cell_type": "code",
   "execution_count": 26,
   "metadata": {},
   "outputs": [],
   "source": [
    "text = 'Ｕｎｉｃｏｄｅ! 🅤🅝🅘🅒🅞🅓🅔‽ 🇺‌🇳‌🇮‌🇨‌🇴‌🇩‌🇪! 😄 The very name strikes fear and awe into the hearts of programmers worldwide. We all know we ought to “support Unicode” in our software (whatever that means—like using wchar_t for all the strings, right?).'\n",
    "tokens = text.encode('utf-8')\n",
    "tokens = list(map(int, tokens))"
   ]
  },
  {
   "cell_type": "code",
   "execution_count": 27,
   "metadata": {},
   "outputs": [
    {
     "name": "stdout",
     "output_type": "stream",
     "text": [
      "318\n",
      "265\n"
     ]
    }
   ],
   "source": [
    "# Byte Pair Encoding\n",
    "\n",
    "def find_top_pair(tokens):\n",
    "    count = {}\n",
    "    n = len(tokens)\n",
    "    for i in range(n-1):\n",
    "        pair = (tokens[i], tokens[i+1])\n",
    "        count[pair] = count.get(pair, 0) + 1\n",
    "    return max(count, key=count.get)\n",
    "\n",
    "def merge(tokens, pair, idx):\n",
    "    n = len(tokens)\n",
    "    new_tokens = []\n",
    "    i = 0\n",
    "    while i < n-1:\n",
    "        if i < n - 1 and tokens[i] == pair[0] and tokens[i+1] == pair[1]:\n",
    "            new_tokens.append(idx)\n",
    "            i += 2\n",
    "        else:\n",
    "            new_tokens.append(tokens[i])\n",
    "            i += 1\n",
    "    return new_tokens\n",
    "\n",
    "def byte_pair_encode(tokens, num_merges):\n",
    "    i = 0\n",
    "    while i < num_merges:\n",
    "        top_pair = find_top_pair(tokens)\n",
    "        tokens = merge(tokens, top_pair, 256 + i)\n",
    "        i += 1\n",
    "    return tokens\n",
    "\n",
    "tokens_copy = tokens.copy()\n",
    "print(len(tokens_copy))\n",
    "encoded = byte_pair_encode(tokens, 5)\n",
    "print(len(encoded))"
   ]
  }
 ],
 "metadata": {
  "kernelspec": {
   "display_name": "Python 3",
   "language": "python",
   "name": "python3"
  },
  "language_info": {
   "codemirror_mode": {
    "name": "ipython",
    "version": 3
   },
   "file_extension": ".py",
   "mimetype": "text/x-python",
   "name": "python",
   "nbconvert_exporter": "python",
   "pygments_lexer": "ipython3",
   "version": "3.10.5"
  }
 },
 "nbformat": 4,
 "nbformat_minor": 2
}
